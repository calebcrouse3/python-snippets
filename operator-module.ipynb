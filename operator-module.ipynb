{
 "cells": [
  {
   "cell_type": "code",
   "execution_count": 1,
   "id": "d3fb0826-a340-4b57-bba5-98d6264b892a",
   "metadata": {},
   "outputs": [],
   "source": [
    "# as far as I can tell there arent many situations youd want to use the operator module\n",
    "# it allows you to pass around / use standard built in operators like \"+\" as a callable object\n",
    "# it also has some specialty operators not available in the standard built in operators\n",
    "# operator is pickleable and lambda is not\n",
    "# there use seems pretty specialized. Here is a link if it ever comes up\n",
    "# https://realpython.com/python-operator-module/"
   ]
  },
  {
   "cell_type": "code",
   "execution_count": 13,
   "id": "41cde4f2-ea76-4226-997d-dfd99d7ae97b",
   "metadata": {},
   "outputs": [],
   "source": [
    "# one case is when you want to supply a function to something like reduce() or map() and not use a lambda"
   ]
  },
  {
   "cell_type": "code",
   "execution_count": 14,
   "id": "b1cf851d-bcca-4fb0-aef1-85760776098c",
   "metadata": {},
   "outputs": [],
   "source": [
    "import operator \n",
    "from functools import reduce\n",
    "\n",
    "a = [2, 3, 4, 5]"
   ]
  },
  {
   "cell_type": "code",
   "execution_count": 15,
   "id": "5604fabe-fd58-4f53-a62b-73a1f92132f7",
   "metadata": {},
   "outputs": [
    {
     "data": {
      "text/plain": [
       "14"
      ]
     },
     "execution_count": 15,
     "metadata": {},
     "output_type": "execute_result"
    }
   ],
   "source": [
    "reduce(lambda x, y: x + y, a)"
   ]
  },
  {
   "cell_type": "code",
   "execution_count": 16,
   "id": "cf1acde6-e67a-4444-931e-e2bb82680c5c",
   "metadata": {},
   "outputs": [
    {
     "data": {
      "text/plain": [
       "14"
      ]
     },
     "execution_count": 16,
     "metadata": {},
     "output_type": "execute_result"
    }
   ],
   "source": [
    "reduce(operator.add, a)"
   ]
  },
  {
   "cell_type": "code",
   "execution_count": null,
   "id": "1299d05c-7bd0-48c5-9951-92bae0c9d81a",
   "metadata": {},
   "outputs": [],
   "source": []
  }
 ],
 "metadata": {
  "kernelspec": {
   "display_name": "Python 3 (ipykernel)",
   "language": "python",
   "name": "python3"
  },
  "language_info": {
   "codemirror_mode": {
    "name": "ipython",
    "version": 3
   },
   "file_extension": ".py",
   "mimetype": "text/x-python",
   "name": "python",
   "nbconvert_exporter": "python",
   "pygments_lexer": "ipython3",
   "version": "3.12.0"
  }
 },
 "nbformat": 4,
 "nbformat_minor": 5
}
