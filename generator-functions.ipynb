{
 "cells": [
  {
   "cell_type": "code",
   "execution_count": 11,
   "id": "e7ffc45a-12a4-409a-aaa3-bd16a47b1109",
   "metadata": {},
   "outputs": [],
   "source": [
    "# Generator functions allow you to declare a function that behaves like an iterator, i.e. it can be used in a for loop.\n",
    "# Generators are a special type of iterator\n",
    "# Generators allow us to process/produce values in a on demand (lazy fashion)\n",
    "# Generators can be thought of as functionining as a stream\n",
    "# Generator function yields values instead of an entire list of values\n",
    "# Prevents us from storing entire iterables in memory and instead can process there values one at a time\n",
    "# Generators previde the same functionality as defining a custom iterator class with much less boilerplate code\n",
    "# A generator may only provide performance benefits if we do not intend to use that set of generated values more than once."
   ]
  },
  {
   "cell_type": "code",
   "execution_count": 1,
   "id": "beb27b38-d76e-4512-81c8-745814b75e6b",
   "metadata": {},
   "outputs": [],
   "source": [
    "def firstn(n):\n",
    "    num = 0\n",
    "    while num  < n:\n",
    "        yield num\n",
    "        num += 1"
   ]
  },
  {
   "cell_type": "code",
   "execution_count": 18,
   "id": "f2999e48-b7a6-42a3-b595-bc33cadabd6a",
   "metadata": {},
   "outputs": [
    {
     "name": "stdout",
     "output_type": "stream",
     "text": [
      "0\n",
      "1\n",
      "2\n"
     ]
    }
   ],
   "source": [
    "for n in firstn(3):\n",
    "    print(n)"
   ]
  },
  {
   "cell_type": "code",
   "execution_count": 6,
   "id": "35884ad6-bc50-4760-b33e-214000c99e9f",
   "metadata": {},
   "outputs": [
    {
     "data": {
      "text/plain": [
       "45"
      ]
     },
     "execution_count": 6,
     "metadata": {},
     "output_type": "execute_result"
    }
   ],
   "source": [
    "sum(list(range(10)))"
   ]
  },
  {
   "cell_type": "code",
   "execution_count": 3,
   "id": "bc5e5b8e-6922-49bd-b5fa-9dbed58208ee",
   "metadata": {},
   "outputs": [
    {
     "data": {
      "text/plain": [
       "45"
      ]
     },
     "execution_count": 3,
     "metadata": {},
     "output_type": "execute_result"
    }
   ],
   "source": [
    "sum(range(10))"
   ]
  },
  {
   "cell_type": "code",
   "execution_count": 2,
   "id": "2cccde26-eb09-4bf6-a296-7ad7c7d0c8eb",
   "metadata": {},
   "outputs": [
    {
     "data": {
      "text/plain": [
       "45"
      ]
     },
     "execution_count": 2,
     "metadata": {},
     "output_type": "execute_result"
    }
   ],
   "source": [
    "sum(firstn(10))"
   ]
  },
  {
   "cell_type": "code",
   "execution_count": 7,
   "id": "3ad57c97-cb46-4f2a-9173-11e3715aaff9",
   "metadata": {},
   "outputs": [
    {
     "data": {
      "text/plain": [
       "[0, 2, 4, 6, 8, 10, 12, 14, 16, 18]"
      ]
     },
     "execution_count": 7,
     "metadata": {},
     "output_type": "execute_result"
    }
   ],
   "source": [
    "[2 * n  for n in range(10)]"
   ]
  },
  {
   "cell_type": "code",
   "execution_count": null,
   "id": "47bd4b18-ea1d-462b-918d-f857a8792110",
   "metadata": {},
   "outputs": [],
   "source": [
    "# can also define generators using similar declaration to list conmprehension\n",
    "# in fact list comprehension can be thought of as a generator wrapped in a list"
   ]
  },
  {
   "cell_type": "code",
   "execution_count": 19,
   "id": "2244f557-8e9d-4b0b-9ad6-8bd5e1e62dc9",
   "metadata": {},
   "outputs": [
    {
     "data": {
      "text/plain": [
       "<generator object <genexpr> at 0x107e9d3c0>"
      ]
     },
     "execution_count": 19,
     "metadata": {},
     "output_type": "execute_result"
    }
   ],
   "source": [
    "(2 * n  for n in range(10))"
   ]
  },
  {
   "cell_type": "code",
   "execution_count": 27,
   "id": "e9228908-5536-4c7e-b33c-04bcde861543",
   "metadata": {},
   "outputs": [],
   "source": [
    "# can manually declare a sequence of generator yield values\n",
    "def man_gen():\n",
    "    yield 1\n",
    "    yield 2\n",
    "    yield 3"
   ]
  },
  {
   "cell_type": "code",
   "execution_count": 29,
   "id": "a7dcc39d-b080-48f0-8fc8-d22174ec28fc",
   "metadata": {},
   "outputs": [
    {
     "name": "stdout",
     "output_type": "stream",
     "text": [
      "1\n",
      "2\n",
      "3\n"
     ]
    }
   ],
   "source": [
    "for i in man_gen():\n",
    "    print(i)"
   ]
  },
  {
   "cell_type": "code",
   "execution_count": 39,
   "id": "7188d905-6acb-4318-9f05-f6b8b3c485b0",
   "metadata": {},
   "outputs": [
    {
     "name": "stdout",
     "output_type": "stream",
     "text": [
      "1\n",
      "2\n",
      "3\n",
      "StopIteration: no more values in generator\n"
     ]
    }
   ],
   "source": [
    "# can call next on instantiated generator function\n",
    "gen = man_gen()\n",
    "\n",
    "for i in range(4):\n",
    "    try:\n",
    "        print(next(gen))\n",
    "    except StopIteration:\n",
    "        print(\"StopIteration: no more values in generator\")\n",
    "        "
   ]
  }
 ],
 "metadata": {
  "kernelspec": {
   "display_name": "Python 3 (ipykernel)",
   "language": "python",
   "name": "python3"
  },
  "language_info": {
   "codemirror_mode": {
    "name": "ipython",
    "version": 3
   },
   "file_extension": ".py",
   "mimetype": "text/x-python",
   "name": "python",
   "nbconvert_exporter": "python",
   "pygments_lexer": "ipython3",
   "version": "3.12.0"
  }
 },
 "nbformat": 4,
 "nbformat_minor": 5
}
