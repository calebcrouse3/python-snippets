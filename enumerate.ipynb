{
 "cells": [
  {
   "cell_type": "code",
   "execution_count": 1,
   "id": "203e5e3c-db4d-4807-8ec8-c4c7b6ec697c",
   "metadata": {},
   "outputs": [],
   "source": [
    "# enumerate can be use to keep count of elements from an iterator"
   ]
  },
  {
   "cell_type": "code",
   "execution_count": 7,
   "id": "2c5f7231-c5cf-471a-8812-1d84517d1673",
   "metadata": {},
   "outputs": [
    {
     "name": "stdout",
     "output_type": "stream",
     "text": [
      "0 a\n",
      "1 b\n",
      "2 c\n",
      "3 d\n"
     ]
    }
   ],
   "source": [
    "l = ['a', 'b', 'c', 'd']\n",
    "\n",
    "for count, item in enumerate(l):\n",
    "    print(count, item)"
   ]
  },
  {
   "cell_type": "code",
   "execution_count": 8,
   "id": "f29d405a-bdd8-48d0-acd8-4d8e12f39b89",
   "metadata": {},
   "outputs": [
    {
     "name": "stdout",
     "output_type": "stream",
     "text": [
      "(0, 'a')\n",
      "(1, 'b')\n",
      "(2, 'c')\n",
      "(3, 'd')\n"
     ]
    }
   ],
   "source": [
    "for tup in enumerate(l):\n",
    "    print(tup)"
   ]
  },
  {
   "cell_type": "code",
   "execution_count": 10,
   "id": "463a0c93-89a7-4d61-9772-18801ef5cae6",
   "metadata": {},
   "outputs": [
    {
     "name": "stdout",
     "output_type": "stream",
     "text": [
      "50 a\n",
      "51 b\n",
      "52 c\n",
      "53 d\n"
     ]
    }
   ],
   "source": [
    "# can specify where to start the count at\n",
    "for count, item in enumerate(l, 50):\n",
    "    print(count, item)"
   ]
  }
 ],
 "metadata": {
  "kernelspec": {
   "display_name": "Python 3 (ipykernel)",
   "language": "python",
   "name": "python3"
  },
  "language_info": {
   "codemirror_mode": {
    "name": "ipython",
    "version": 3
   },
   "file_extension": ".py",
   "mimetype": "text/x-python",
   "name": "python",
   "nbconvert_exporter": "python",
   "pygments_lexer": "ipython3",
   "version": "3.12.0"
  }
 },
 "nbformat": 4,
 "nbformat_minor": 5
}
