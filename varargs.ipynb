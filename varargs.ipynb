{
 "cells": [
  {
   "cell_type": "code",
   "execution_count": 7,
   "id": "5a0644f1-164d-4dc2-9c07-d003934bb96d",
   "metadata": {},
   "outputs": [],
   "source": [
    "# *args single asterisk allows for variable number of non named arguments\n",
    "def my_func(*args):\n",
    "    for a in args:\n",
    "        print(a)"
   ]
  },
  {
   "cell_type": "code",
   "execution_count": 8,
   "id": "7d0a733e-247a-471a-8feb-905c7aa512d0",
   "metadata": {},
   "outputs": [
    {
     "name": "stdout",
     "output_type": "stream",
     "text": [
      "1\n",
      "2\n",
      "3\n"
     ]
    }
   ],
   "source": [
    "my_func(1, 2, 3)"
   ]
  },
  {
   "cell_type": "code",
   "execution_count": 9,
   "id": "bcf7ae44-7b0b-4eba-906a-c907c36427a9",
   "metadata": {},
   "outputs": [],
   "source": [
    "my_func()"
   ]
  },
  {
   "cell_type": "code",
   "execution_count": 11,
   "id": "1581ae94-47ca-4c35-b708-971b406fe692",
   "metadata": {},
   "outputs": [],
   "source": [
    "# can supply both mandatory and variable arguments\n",
    "def nuther_func(arg, *args):\n",
    "    print(arg)\n",
    "    print(\"bonus\")\n",
    "    for a in args:\n",
    "        print(a)\n"
   ]
  },
  {
   "cell_type": "code",
   "execution_count": 12,
   "id": "a4cf7d80-e163-4722-92b1-81b2a55b0d91",
   "metadata": {},
   "outputs": [
    {
     "name": "stdout",
     "output_type": "stream",
     "text": [
      "needed\n",
      "bonus\n",
      "extra\n",
      "extra\n"
     ]
    }
   ],
   "source": [
    "nuther_func(\"needed\", \"extra\", \"extra\")"
   ]
  },
  {
   "cell_type": "code",
   "execution_count": 15,
   "id": "9cfb618d-d86a-442f-a4b4-5b1d558325fb",
   "metadata": {},
   "outputs": [],
   "source": [
    "# **kwargs\n",
    "# One can think of the kwargs as being a dictionary that maps each keyword to the value that we pass alongside it. \n",
    "# That is why when we iterate over the kwargs there doesn’t seem to be any order in which they were printed out.\n",
    "\n",
    "def kw_func(**kwargs):\n",
    "    for key, value in kwargs.items():\n",
    "        print(key, value)\n",
    "\n",
    "    if \"harry\" in kwargs.keys():\n",
    "        print(kwargs[\"harry\"])"
   ]
  },
  {
   "cell_type": "code",
   "execution_count": 16,
   "id": "ce7bcec2-71f2-4871-92c2-a023be04165d",
   "metadata": {},
   "outputs": [
    {
     "name": "stdout",
     "output_type": "stream",
     "text": [
      "harry potter\n",
      "big foot\n",
      "potter\n"
     ]
    }
   ],
   "source": [
    "kw_func(harry=\"potter\",big=\"foot\")"
   ]
  },
  {
   "cell_type": "code",
   "execution_count": 19,
   "id": "1eaaebb0-0637-4c13-b659-2ae0cd415e1d",
   "metadata": {},
   "outputs": [
    {
     "name": "stdout",
     "output_type": "stream",
     "text": [
      "args:  ('hello', 'world')\n",
      "kwargs:  {'a': 'are', 'b': 'you', 'c': 'cruel'}\n"
     ]
    }
   ],
   "source": [
    "# *args receives arguments as a tuple.\n",
    "# **kwargs receives arguments as a dictionary.\n",
    "# using both *args and **kwargs\n",
    "\n",
    "def both_fun(*args, **kwargs):\n",
    "    print(\"args: \", args)\n",
    "    print(\"kwargs: \", kwargs)\n",
    "\n",
    "both_fun('hello', 'world', a=\"are\", b=\"you\", c=\"cruel\")"
   ]
  }
 ],
 "metadata": {
  "kernelspec": {
   "display_name": "Python 3 (ipykernel)",
   "language": "python",
   "name": "python3"
  },
  "language_info": {
   "codemirror_mode": {
    "name": "ipython",
    "version": 3
   },
   "file_extension": ".py",
   "mimetype": "text/x-python",
   "name": "python",
   "nbconvert_exporter": "python",
   "pygments_lexer": "ipython3",
   "version": "3.12.0"
  }
 },
 "nbformat": 4,
 "nbformat_minor": 5
}
