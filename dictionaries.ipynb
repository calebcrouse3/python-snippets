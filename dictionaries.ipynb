{
 "cells": [
  {
   "cell_type": "code",
   "execution_count": 15,
   "id": "fba6099b-e651-41a7-8eba-426a1adda474",
   "metadata": {},
   "outputs": [],
   "source": [
    "## unpack a dictionary into a function using the ** operator\n",
    "# key names must correspond to parameter names\n",
    "# values passed as argument values"
   ]
  },
  {
   "cell_type": "code",
   "execution_count": 20,
   "id": "eed6d7a2-f0f5-4c98-a237-2db738d3a5d4",
   "metadata": {},
   "outputs": [],
   "source": [
    "def fun(a, b, c):\n",
    "    print(a, b, c)\n",
    "\n",
    "dict = {'a': 'are', 'b': 'you', 'c': 'cruel'}\n",
    "\n",
    "# dict values can be out of order\n",
    "dict2 = {'a': 'are', 'c': 'cruel', 'b': 'you'}"
   ]
  },
  {
   "cell_type": "code",
   "execution_count": 21,
   "id": "c36e4bed-bb15-4e8f-81d0-fcc38ecd9e1e",
   "metadata": {},
   "outputs": [
    {
     "name": "stdout",
     "output_type": "stream",
     "text": [
      "are you cruel\n"
     ]
    }
   ],
   "source": [
    "fun(**dict)"
   ]
  },
  {
   "cell_type": "code",
   "execution_count": 22,
   "id": "fa3dab4c-e84d-4226-948c-9746c44fc7d8",
   "metadata": {},
   "outputs": [
    {
     "name": "stdout",
     "output_type": "stream",
     "text": [
      "are you cruel\n"
     ]
    }
   ],
   "source": [
    "fun(**dict2)"
   ]
  },
  {
   "cell_type": "code",
   "execution_count": null,
   "id": "f4984e59-3899-4945-9cc5-509a564751fd",
   "metadata": {},
   "outputs": [],
   "source": []
  }
 ],
 "metadata": {
  "kernelspec": {
   "display_name": "Python 3 (ipykernel)",
   "language": "python",
   "name": "python3"
  },
  "language_info": {
   "codemirror_mode": {
    "name": "ipython",
    "version": 3
   },
   "file_extension": ".py",
   "mimetype": "text/x-python",
   "name": "python",
   "nbconvert_exporter": "python",
   "pygments_lexer": "ipython3",
   "version": "3.12.0"
  }
 },
 "nbformat": 4,
 "nbformat_minor": 5
}
