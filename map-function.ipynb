{
 "cells": [
  {
   "cell_type": "code",
   "execution_count": 9,
   "id": "9fa49fc6-9255-48cd-8871-87e03a02f89d",
   "metadata": {},
   "outputs": [],
   "source": [
    "# map applies a function to an iterable and returns a new iterable"
   ]
  },
  {
   "cell_type": "code",
   "execution_count": 6,
   "id": "6576b320-834c-49c6-a88a-dc2d38a18874",
   "metadata": {},
   "outputs": [],
   "source": [
    "def square(n):\n",
    "    return n * n\n",
    "\n",
    "values = [1, 2, 3, 4]\n",
    "result = map(square, values)"
   ]
  },
  {
   "cell_type": "code",
   "execution_count": 7,
   "id": "10bc88ed-9a80-4645-b2ae-c9a17fe884dc",
   "metadata": {},
   "outputs": [
    {
     "data": {
      "text/plain": [
       "<map at 0x108a39420>"
      ]
     },
     "execution_count": 7,
     "metadata": {},
     "output_type": "execute_result"
    }
   ],
   "source": [
    "result"
   ]
  },
  {
   "cell_type": "code",
   "execution_count": 8,
   "id": "7627c845-81c0-44ae-a450-21794a2ab96f",
   "metadata": {},
   "outputs": [
    {
     "data": {
      "text/plain": [
       "[1, 4, 9, 16]"
      ]
     },
     "execution_count": 8,
     "metadata": {},
     "output_type": "execute_result"
    }
   ],
   "source": [
    "list(result)"
   ]
  },
  {
   "cell_type": "code",
   "execution_count": 10,
   "id": "cb37ce9f-149e-4741-a03f-8bade8d05bd4",
   "metadata": {},
   "outputs": [],
   "source": [
    "# can also use a lambda with map"
   ]
  },
  {
   "cell_type": "code",
   "execution_count": 11,
   "id": "fcde53c9-77b6-48df-b424-80d6c1828ffb",
   "metadata": {},
   "outputs": [],
   "source": [
    "result = map(lambda x: x*x, values)"
   ]
  },
  {
   "cell_type": "code",
   "execution_count": 13,
   "id": "98fb76e1-1d3c-4a22-83e7-f3618a1e057d",
   "metadata": {},
   "outputs": [
    {
     "data": {
      "text/plain": [
       "[1, 4, 9, 16]"
      ]
     },
     "execution_count": 13,
     "metadata": {},
     "output_type": "execute_result"
    }
   ],
   "source": [
    "list(result)"
   ]
  },
  {
   "cell_type": "code",
   "execution_count": null,
   "id": "129396c0-29b9-470a-946e-8db191c923f7",
   "metadata": {},
   "outputs": [],
   "source": [
    "# generator could also provide the same output"
   ]
  },
  {
   "cell_type": "code",
   "execution_count": 16,
   "id": "60031781-3e0b-4053-a15a-c04262054153",
   "metadata": {},
   "outputs": [
    {
     "data": {
      "text/plain": [
       "[1, 4, 9, 16]"
      ]
     },
     "execution_count": 16,
     "metadata": {},
     "output_type": "execute_result"
    }
   ],
   "source": [
    "list(x*x for x in values)"
   ]
  },
  {
   "cell_type": "code",
   "execution_count": null,
   "id": "834ad515-f1db-4d90-8e82-aeb133b5f2d6",
   "metadata": {},
   "outputs": [],
   "source": [
    "# if we want the result in a list we could just use list comprehension"
   ]
  },
  {
   "cell_type": "code",
   "execution_count": 14,
   "id": "f5a07fc1-a34c-4d6c-993f-4d21889af645",
   "metadata": {},
   "outputs": [
    {
     "data": {
      "text/plain": [
       "[1, 4, 9, 16]"
      ]
     },
     "execution_count": 14,
     "metadata": {},
     "output_type": "execute_result"
    }
   ],
   "source": [
    "[x*x for x in values]"
   ]
  },
  {
   "cell_type": "code",
   "execution_count": 17,
   "id": "3325ba8c-fa3a-48f5-a4c8-d3ce0cf09a8c",
   "metadata": {},
   "outputs": [],
   "source": [
    "# can map over multiple iterables at once"
   ]
  },
  {
   "cell_type": "code",
   "execution_count": 19,
   "id": "788659a2-93e6-45c8-9e1a-2628be25acfd",
   "metadata": {},
   "outputs": [],
   "source": [
    "numbers1 = [1, 2, 3] \n",
    "numbers2 = [4, 5, 6] \n",
    "  \n",
    "result = map(lambda x, y: x + y, numbers1, numbers2) "
   ]
  },
  {
   "cell_type": "code",
   "execution_count": 20,
   "id": "b5df81a8-9aa1-464c-83b9-c7624f913af8",
   "metadata": {},
   "outputs": [],
   "source": [
    "# convert list of strings into a list of a list of the characters in each string"
   ]
  },
  {
   "cell_type": "code",
   "execution_count": 21,
   "id": "8cf4d9c4-8950-4760-8430-0c6cbae72847",
   "metadata": {},
   "outputs": [],
   "source": [
    "# List of strings \n",
    "l = ['sat', 'bat', 'cat', 'mat'] \n",
    "  \n",
    "# map() can listify the list of strings individually\n",
    "test = list(map(list, l)) "
   ]
  },
  {
   "cell_type": "code",
   "execution_count": 22,
   "id": "3a826169-279b-4423-b9a0-4e73019f7acf",
   "metadata": {},
   "outputs": [
    {
     "name": "stdout",
     "output_type": "stream",
     "text": [
      "[['s', 'a', 't'], ['b', 'a', 't'], ['c', 'a', 't'], ['m', 'a', 't']]\n"
     ]
    }
   ],
   "source": [
    "print(test)"
   ]
  },
  {
   "cell_type": "code",
   "execution_count": 23,
   "id": "338f1dca-a477-4a42-9f5e-29753888f611",
   "metadata": {},
   "outputs": [],
   "source": [
    "# can use a map function where the function contains an if statement"
   ]
  },
  {
   "cell_type": "code",
   "execution_count": 28,
   "id": "393c5ff0-57a2-413b-9933-1ec9c9ab8dcb",
   "metadata": {},
   "outputs": [
    {
     "name": "stdout",
     "output_type": "stream",
     "text": [
      "[1, 4, 3, 8, 5]\n"
     ]
    }
   ],
   "source": [
    "# Define a function that doubles even numbers and leaves odd numbers as is \n",
    "def double_even(num): \n",
    "    if num % 2 == 0: \n",
    "        return num * 2\n",
    "    else: \n",
    "        return num \n",
    "  \n",
    "# Create a list of numbers to apply the function to \n",
    "numbers = [1, 2, 3, 4, 5] \n",
    "  \n",
    "# Use map to apply the function to each element in the list \n",
    "result = list(map(double_even, numbers))\n",
    "\n",
    "# Print the result \n",
    "print(result)  # [1, 4, 3, 8, 5]"
   ]
  },
  {
   "cell_type": "code",
   "execution_count": null,
   "id": "e09b113f-9940-4d11-ba90-f7f46b8c7ea3",
   "metadata": {},
   "outputs": [],
   "source": []
  }
 ],
 "metadata": {
  "kernelspec": {
   "display_name": "Python 3 (ipykernel)",
   "language": "python",
   "name": "python3"
  },
  "language_info": {
   "codemirror_mode": {
    "name": "ipython",
    "version": 3
   },
   "file_extension": ".py",
   "mimetype": "text/x-python",
   "name": "python",
   "nbconvert_exporter": "python",
   "pygments_lexer": "ipython3",
   "version": "3.12.0"
  }
 },
 "nbformat": 4,
 "nbformat_minor": 5
}
