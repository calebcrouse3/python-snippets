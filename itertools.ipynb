{
 "cells": [
  {
   "cell_type": "code",
   "execution_count": 39,
   "id": "a87545d2-dfb5-4582-b9ce-9270d5dbed9d",
   "metadata": {},
   "outputs": [],
   "source": [
    "from itertools import count, cycle, repeat, chain, compress, permutations, product, combinations"
   ]
  },
  {
   "cell_type": "code",
   "execution_count": 34,
   "id": "ecc6f221-6faf-49e7-9739-89e340dede9a",
   "metadata": {},
   "outputs": [],
   "source": [
    "# permutation\n",
    "# second arg is the length of permutations"
   ]
  },
  {
   "cell_type": "code",
   "execution_count": 33,
   "id": "fafe21f6-721f-4b20-a024-488b394c1790",
   "metadata": {},
   "outputs": [
    {
     "name": "stdout",
     "output_type": "stream",
     "text": [
      "('a', 'b', 'c')\n",
      "('a', 'c', 'b')\n",
      "('b', 'a', 'c')\n",
      "('b', 'c', 'a')\n",
      "('c', 'a', 'b')\n",
      "('c', 'b', 'a')\n"
     ]
    }
   ],
   "source": [
    "data = ['a', 'b', 'c']\n",
    "\n",
    "for perm in permutations(data):\n",
    "    print(perm)"
   ]
  },
  {
   "cell_type": "code",
   "execution_count": 35,
   "id": "0ac47605-f460-4852-889c-4752e65d0136",
   "metadata": {},
   "outputs": [
    {
     "name": "stdout",
     "output_type": "stream",
     "text": [
      "('a', 'b')\n",
      "('a', 'c')\n",
      "('b', 'a')\n",
      "('b', 'c')\n",
      "('c', 'a')\n",
      "('c', 'b')\n"
     ]
    }
   ],
   "source": [
    "for perm in permutations(data, 2):\n",
    "    print(perm)"
   ]
  },
  {
   "cell_type": "code",
   "execution_count": 38,
   "id": "782acffd-d14a-4e77-bb8a-63ecdc34a5d5",
   "metadata": {},
   "outputs": [
    {
     "name": "stdout",
     "output_type": "stream",
     "text": [
      "('A', 'B')\n",
      "('A', 'C')\n",
      "('A', 'D')\n",
      "('B', 'A')\n",
      "('B', 'C')\n",
      "('B', 'D')\n",
      "('C', 'A')\n",
      "('C', 'B')\n",
      "('C', 'D')\n",
      "('D', 'A')\n",
      "('D', 'B')\n",
      "('D', 'C')\n"
     ]
    }
   ],
   "source": [
    "for perm in permutations('ABCD', 2):\n",
    "    print(perm)"
   ]
  },
  {
   "cell_type": "code",
   "execution_count": 53,
   "id": "e35f5868-0b08-4b9c-a95f-03f46b153636",
   "metadata": {},
   "outputs": [],
   "source": [
    "#product returns cartesian plane of two iterables or values in a single iterable"
   ]
  },
  {
   "cell_type": "code",
   "execution_count": 43,
   "id": "07dc0788-75db-4bfe-aff9-b856d29dfebd",
   "metadata": {},
   "outputs": [
    {
     "name": "stdout",
     "output_type": "stream",
     "text": [
      "('red', 'small')\n",
      "('red', 'medium')\n",
      "('red', 'large')\n",
      "('green', 'small')\n",
      "('green', 'medium')\n",
      "('green', 'large')\n",
      "('blue', 'small')\n",
      "('blue', 'medium')\n",
      "('blue', 'large')\n"
     ]
    }
   ],
   "source": [
    "colors = ['red', 'green', 'blue']\n",
    "sizes = ['small', 'medium', 'large']\n",
    "\n",
    "for item in product(colors, sizes):\n",
    "    print(item)"
   ]
  },
  {
   "cell_type": "code",
   "execution_count": 54,
   "id": "a6a2635a-bf8b-4443-8a99-ac10dabc49ed",
   "metadata": {},
   "outputs": [
    {
     "name": "stdout",
     "output_type": "stream",
     "text": [
      "('A', 'A')\n",
      "('A', 'B')\n",
      "('A', 'C')\n",
      "('A', 'D')\n",
      "('B', 'A')\n",
      "('B', 'B')\n",
      "('B', 'C')\n",
      "('B', 'D')\n",
      "('C', 'A')\n",
      "('C', 'B')\n",
      "('C', 'C')\n",
      "('C', 'D')\n",
      "('D', 'A')\n",
      "('D', 'B')\n",
      "('D', 'C')\n",
      "('D', 'D')\n"
     ]
    }
   ],
   "source": [
    "for item in product('ABCD', repeat=2):\n",
    "    print(item)"
   ]
  },
  {
   "cell_type": "code",
   "execution_count": 2,
   "id": "46a271b5-ce46-42ff-a0df-958529915425",
   "metadata": {},
   "outputs": [],
   "source": [
    "# count provides a infinite iterator\n",
    "# args are start and step"
   ]
  },
  {
   "cell_type": "code",
   "execution_count": 12,
   "id": "8de4ec99-f57b-429f-a124-e525a967398b",
   "metadata": {},
   "outputs": [],
   "source": [
    "count_iter = count(10, 2)"
   ]
  },
  {
   "cell_type": "code",
   "execution_count": 13,
   "id": "feb456b2-5be8-499b-9f92-b69f912b65ea",
   "metadata": {},
   "outputs": [
    {
     "name": "stdout",
     "output_type": "stream",
     "text": [
      "10\n",
      "12\n",
      "14\n",
      "16\n",
      "18\n",
      "20\n",
      "22\n",
      "24\n",
      "26\n",
      "28\n"
     ]
    }
   ],
   "source": [
    "for i in range(10):\n",
    "    print(next(count_iter))"
   ]
  },
  {
   "cell_type": "code",
   "execution_count": null,
   "id": "d2f25315-4bd8-412d-abad-e4ad9cee9904",
   "metadata": {},
   "outputs": [],
   "source": [
    "# cycle infiniately cycles through values"
   ]
  },
  {
   "cell_type": "code",
   "execution_count": 19,
   "id": "5cda8087-6b99-4cee-b249-bd8127c9bdf7",
   "metadata": {},
   "outputs": [
    {
     "name": "stdout",
     "output_type": "stream",
     "text": [
      "red\n",
      "green\n",
      "blue\n",
      "red\n",
      "green\n",
      "blue\n",
      "red\n",
      "green\n",
      "blue\n",
      "red\n",
      "green\n",
      "blue\n"
     ]
    }
   ],
   "source": [
    "colors = ['red', 'green', 'blue']\n",
    "\n",
    "stopper = 0\n",
    "for color in cycle(colors):\n",
    "    print(color)\n",
    "    if stopper > 10:\n",
    "        break\n",
    "    stopper += 1"
   ]
  },
  {
   "cell_type": "code",
   "execution_count": 23,
   "id": "df1d18fa-2eb9-4a80-b632-069219496484",
   "metadata": {},
   "outputs": [
    {
     "name": "stdout",
     "output_type": "stream",
     "text": [
      "hello\n",
      "hello\n",
      "hello\n",
      "hello\n",
      "hello\n",
      "hello\n",
      "hello\n",
      "hello\n",
      "hello\n",
      "hello\n"
     ]
    }
   ],
   "source": [
    "# repeat will create an iterator that repeats a specific value up to an infinite number of times\n",
    "# first arg is value, second is the number of times, if no times if provided will repeat infinitely\n",
    "for i in repeat(\"hello\", 10):\n",
    "    print(i)"
   ]
  },
  {
   "cell_type": "code",
   "execution_count": 24,
   "id": "c2984cec-4ce4-4627-9299-9f8544ddbba6",
   "metadata": {},
   "outputs": [],
   "source": [
    "# chain will iterate over values from multiple lists in sequence"
   ]
  },
  {
   "cell_type": "code",
   "execution_count": 27,
   "id": "c03bf4c5-fc0a-41ba-9712-cd9517be1a0c",
   "metadata": {},
   "outputs": [
    {
     "name": "stdout",
     "output_type": "stream",
     "text": [
      "a\n",
      "b\n",
      "c\n",
      "d\n",
      "e\n",
      "f\n"
     ]
    }
   ],
   "source": [
    "list1 = ['a', 'b', 'c']\n",
    "list2 = ['d', 'e', 'f']\n",
    "\n",
    "for item in chain(list1, list2):\n",
    "    print(item)"
   ]
  },
  {
   "cell_type": "code",
   "execution_count": null,
   "id": "4a1fbff8-a5c8-41e9-836e-b5cb1da3f1de",
   "metadata": {},
   "outputs": [],
   "source": [
    "# The compress function is used to create an iterator that returns the elements of a sequence that correspond to a boolean mask. \n",
    "# It takes two arguments: data (the sequence to be compressed), and selectors (a boolean mask that determines which elements to include)"
   ]
  },
  {
   "cell_type": "code",
   "execution_count": 30,
   "id": "300c8160-44f4-46b0-b1e9-55aa6854f164",
   "metadata": {},
   "outputs": [
    {
     "name": "stdout",
     "output_type": "stream",
     "text": [
      "a\n",
      "c\n",
      "e\n"
     ]
    }
   ],
   "source": [
    "data = ['a', 'b', 'c', 'd', 'e']\n",
    "selectors = [True, False, True, False, True]\n",
    "\n",
    "for item in compress(data, selectors):\n",
    "    print(item)"
   ]
  }
 ],
 "metadata": {
  "kernelspec": {
   "display_name": "Python 3 (ipykernel)",
   "language": "python",
   "name": "python3"
  },
  "language_info": {
   "codemirror_mode": {
    "name": "ipython",
    "version": 3
   },
   "file_extension": ".py",
   "mimetype": "text/x-python",
   "name": "python",
   "nbconvert_exporter": "python",
   "pygments_lexer": "ipython3",
   "version": "3.12.0"
  }
 },
 "nbformat": 4,
 "nbformat_minor": 5
}
